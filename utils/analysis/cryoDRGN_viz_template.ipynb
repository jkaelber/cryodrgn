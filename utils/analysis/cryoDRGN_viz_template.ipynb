{
 "cells": [
  {
   "cell_type": "markdown",
   "metadata": {
    "scrolled": false
   },
   "source": [
    "# CryoDRGN visualization and analysis\n",
    "\n",
    "This jupyter notebook provides a template for analyzing cryoDRGN results, including:\n",
    "* latent space visualization with PCA/UMAP\n",
    "* clustering\n",
    "* interactive visualization of the latent space, imaging, and pose parameters\n",
    "* interactive selection of particle images from the latent space\n",
    "* interactive generation of volumes from the latent space\n",
    "\n",
    "Note that this is a simple template for data analysis, and not a polished UI. Experience with Python/Pandas is recommended.\n",
    "\n",
    "This notebook assumes that the latent variable dimension is > 1 (e.g. multidimensional plotting)."
   ]
  },
  {
   "cell_type": "code",
   "execution_count": null,
   "metadata": {},
   "outputs": [],
   "source": [
    "import pandas as pd\n",
    "import numpy as np\n",
    "import pickle\n",
    "import subprocess\n",
    "import os, sys\n",
    "sys.path.insert(0,f'{os.environ[\"CDRGN_SRC\"]}/lib-python')\n",
    "import analysis\n",
    "import utils\n",
    "import dataset\n",
    "import ctf\n",
    "                \n",
    "import matplotlib.pyplot as plt\n",
    "import seaborn as sns\n",
    "import plotly.graph_objs as go\n",
    "import plotly.offline as py\n",
    "from ipywidgets import interact, interactive, HBox, VBox\n",
    "from scipy.spatial.transform import Rotation as RR\n",
    "py.init_notebook_mode()\n",
    "from IPython.display import FileLink, FileLinks"
   ]
  },
  {
   "cell_type": "markdown",
   "metadata": {},
   "source": [
    "### Load results"
   ]
  },
  {
   "cell_type": "code",
   "execution_count": null,
   "metadata": {
    "scrolled": false
   },
   "outputs": [],
   "source": [
    "# Specify the workdir and the epoch number (0-based index) to analyze\n",
    "WORKDIR = '.' \n",
    "EPOCH = 49 # CHANGE ME"
   ]
  },
  {
   "cell_type": "code",
   "execution_count": null,
   "metadata": {},
   "outputs": [],
   "source": [
    "print(os.path.abspath(WORKDIR))"
   ]
  },
  {
   "cell_type": "code",
   "execution_count": null,
   "metadata": {
    "scrolled": false
   },
   "outputs": [],
   "source": [
    "# Load z\n",
    "with open(f'{WORKDIR}/z.{EPOCH}.pkl','rb') as f:\n",
    "    z = pickle.load(f)\n",
    "    z_logvar = pickle.load(f)"
   ]
  },
  {
   "cell_type": "code",
   "execution_count": null,
   "metadata": {},
   "outputs": [],
   "source": [
    "# Load UMAP\n",
    "umap = utils.load_pkl(f'{WORKDIR}/umap.{EPOCH}.pkl')\n",
    "# or run UMAP\n",
    "# umap = analysis.run_umap(z)"
   ]
  },
  {
   "cell_type": "code",
   "execution_count": null,
   "metadata": {},
   "outputs": [],
   "source": [
    "# Load kmeans\n",
    "kmeans_labels = utils.load_pkl(f'{WORKDIR}/kmeans.labels.{EPOCH}.pkl')\n",
    "kmeans_centers = np.loadtxt(f'{WORKDIR}/kmeans.centers.{EPOCH}.txt')\n",
    "# Or re-run kmeans with the desired number of classes\n",
    "#kmeans_labels, kmeans_centers = analysis.cluster_kmeans(z, 20)\n",
    "\n",
    "# Get index for on-data cluster center\n",
    "kmeans_centers, centers_ind = analysis.get_nearest_point(z, kmeans_centers)"
   ]
  },
  {
   "cell_type": "markdown",
   "metadata": {},
   "source": [
    "### Load dataset"
   ]
  },
  {
   "cell_type": "code",
   "execution_count": null,
   "metadata": {},
   "outputs": [],
   "source": [
    "# Load configuration file\n",
    "config = utils.load_pkl(f'{WORKDIR}/config.pkl')\n",
    "print(config)"
   ]
  },
  {
   "cell_type": "code",
   "execution_count": null,
   "metadata": {},
   "outputs": [],
   "source": [
    "# Load poses\n",
    "if config['dataset_args']['do_pose_sgd']:\n",
    "    pose_pkl = f'{WORKDIR}/pose.{EPOCH}.pkl'\n",
    "    with open(pose_pkl,'rb') as f:\n",
    "        rot, trans = pickle.load(f)\n",
    "else:\n",
    "    pose_pkl = config['dataset_args']['poses']\n",
    "    rot, trans = utils.load_pkl(pose_pkl)"
   ]
  },
  {
   "cell_type": "code",
   "execution_count": null,
   "metadata": {},
   "outputs": [],
   "source": [
    "# Convert rotation matrices to euler angles\n",
    "euler = RR.from_dcm(rot).as_euler('zyz', degrees=True)"
   ]
  },
  {
   "cell_type": "code",
   "execution_count": null,
   "metadata": {},
   "outputs": [],
   "source": [
    "# Load index filter\n",
    "ind = config['dataset_args']['ind']\n",
    "if ind is not None:\n",
    "    ind = utils.load_pkl(ind)\n",
    "    if len(rot) > len(ind):\n",
    "        print(f'Filtering poses from {len(rot)} to {len(ind)}')\n",
    "        rot = rot[ind]\n",
    "        trans = trans[ind]\n",
    "        euler = euler[ind]"
   ]
  },
  {
   "cell_type": "code",
   "execution_count": null,
   "metadata": {},
   "outputs": [],
   "source": [
    "# Load input particles\n",
    "particles = dataset.load_particles(config['dataset_args']['particles'],\n",
    "                            lazy=True,\n",
    "                            datadir=config['dataset_args']['datadir'])\n",
    "if ind is not None:\n",
    "    print(f'Filtering particles from {len(particles)} to {len(ind)}')\n",
    "    particles = [particles[i] for i in ind]"
   ]
  },
  {
   "cell_type": "code",
   "execution_count": null,
   "metadata": {},
   "outputs": [],
   "source": [
    "# Load CTF\n",
    "ctf_params = utils.load_pkl(config['dataset_args']['ctf'])\n",
    "if ind is not None:\n",
    "    print(f'Filtering ctf parameters from {len(ctf_params)} to {len(ind)}')\n",
    "    ctf_params = ctf_params[ind]\n",
    "ctf.print_ctf_params(ctf_params[0])"
   ]
  },
  {
   "cell_type": "markdown",
   "metadata": {},
   "source": [
    "### PCA"
   ]
  },
  {
   "cell_type": "code",
   "execution_count": null,
   "metadata": {},
   "outputs": [],
   "source": [
    "pc, pca = analysis.run_pca(z)\n",
    "plt.scatter(pc[:,0], pc[:,1], alpha=.1, s=1)\n",
    "plt.xlabel('PC1 ({:.2f})'.format(pca.explained_variance_ratio_[0]))\n",
    "plt.ylabel('PC2 ({:.2f})'.format(pca.explained_variance_ratio_[1]))"
   ]
  },
  {
   "cell_type": "markdown",
   "metadata": {},
   "source": [
    "### View pose distribution"
   ]
  },
  {
   "cell_type": "code",
   "execution_count": null,
   "metadata": {},
   "outputs": [],
   "source": [
    "# rotations\n",
    "analysis.plot_euler(euler[:,0],euler[:,1], euler[:,2])"
   ]
  },
  {
   "cell_type": "code",
   "execution_count": null,
   "metadata": {},
   "outputs": [],
   "source": [
    "# translations\n",
    "sns.jointplot(trans[:,0],trans[:,1],\n",
    "              kind='hex').set_axis_labels('tx','ty')"
   ]
  },
  {
   "cell_type": "markdown",
   "metadata": {},
   "source": [
    "### View UMAP"
   ]
  },
  {
   "cell_type": "code",
   "execution_count": null,
   "metadata": {},
   "outputs": [],
   "source": [
    "plt.scatter(umap[:,0], umap[:,1], alpha=.1, s=1)\n",
    "plt.xlabel('UMAP1')\n",
    "plt.ylabel('UMAP2')"
   ]
  },
  {
   "cell_type": "markdown",
   "metadata": {},
   "source": [
    "### View K-means clusters"
   ]
  },
  {
   "cell_type": "code",
   "execution_count": null,
   "metadata": {},
   "outputs": [],
   "source": [
    "K = len(set(kmeans_labels))\n",
    "c = pca.transform(kmeans_centers) # transform to view with PCs\n",
    "analysis.plot_by_cluster(pc[:,0], pc[:,1], K, \n",
    "                         kmeans_labels, \n",
    "                         centers=c,\n",
    "                         annotate=True)\n",
    "plt.xlabel('PC1')\n",
    "plt.ylabel('PC2')"
   ]
  },
  {
   "cell_type": "code",
   "execution_count": null,
   "metadata": {},
   "outputs": [],
   "source": [
    "fig, ax = analysis.plot_by_cluster_subplot(pc[:,0], pc[:,1], K, \n",
    "                            kmeans_labels)"
   ]
  },
  {
   "cell_type": "code",
   "execution_count": null,
   "metadata": {},
   "outputs": [],
   "source": [
    "analysis.plot_by_cluster(umap[:,0], umap[:,1], K, \n",
    "                         kmeans_labels, \n",
    "                         centers_ind=centers_ind,\n",
    "                         annotate=True)\n",
    "plt.xlabel('UMAP1')\n",
    "plt.ylabel('UMAP2')"
   ]
  },
  {
   "cell_type": "code",
   "execution_count": null,
   "metadata": {},
   "outputs": [],
   "source": [
    "fig, ax = analysis.plot_by_cluster_subplot(umap[:,0], umap[:,1], K, \n",
    "                            kmeans_labels)"
   ]
  },
  {
   "cell_type": "markdown",
   "metadata": {},
   "source": [
    "# Interactive visualization\n",
    "\n",
    "Interactive visualization of the latent encodings for the trained model. Each point represents a particle image of the dataset. The hover text includes the index of the image in the particle stack. "
   ]
  },
  {
   "cell_type": "markdown",
   "metadata": {},
   "source": [
    "### Load into pandas dataframe"
   ]
  },
  {
   "cell_type": "code",
   "execution_count": null,
   "metadata": {},
   "outputs": [],
   "source": [
    "# Load data into a pandas dataframe\n",
    "df = analysis.load_dataframe(z=z, \n",
    "                             pc=pc, \n",
    "                             euler=euler, \n",
    "                             trans=trans, \n",
    "                             labels=kmeans_labels, \n",
    "                             umap=umap,\n",
    "                             df1=ctf_params[:,2],\n",
    "                             df2=ctf_params[:,3],\n",
    "                             dfang=ctf_params[:,4],\n",
    "                             phase=ctf_params[:,8])\n",
    "df.head()"
   ]
  },
  {
   "cell_type": "code",
   "execution_count": null,
   "metadata": {},
   "outputs": [],
   "source": [
    "# Annotated points correspond to kmeans cluster centers\n",
    "widget, fig = analysis.ipy_plot_interactive_annotate(df,centers_ind)\n",
    "VBox((widget,fig))"
   ]
  },
  {
   "cell_type": "markdown",
   "metadata": {},
   "source": [
    "# Interactive selection\n",
    "\n",
    "The next two cells contain helper code to select particles using an interactive lasso tool. \n",
    "\n",
    "1. In the first cell, select points with the lasso tool. The table widget is dynamically updated with the most recent selection's indices. \n",
    "2. Then once you've finalized your selection, use the next cell to save the particle indices for downstream analysis/viz.\n",
    "\n",
    "(Double click to clear selection)"
   ]
  },
  {
   "cell_type": "code",
   "execution_count": null,
   "metadata": {},
   "outputs": [],
   "source": [
    "widget, fig, ind_table = analysis.ipy_plot_interactive(df)\n",
    "VBox((widget,fig,ind_table))"
   ]
  },
  {
   "cell_type": "code",
   "execution_count": null,
   "metadata": {},
   "outputs": [],
   "source": [
    "ind_selected = ind_table.data[0].cells.values[0] # save table values\n",
    "ind_selected = np.array(ind_selected)\n",
    "ind_selected_not = np.array(sorted(set(np.arange(len(df))) - set(ind_selected)))\n",
    "\n",
    "print('Selected indices:')\n",
    "print(ind_selected)\n",
    "print('Number of selected points:')\n",
    "print(len(ind_selected))\n",
    "print('Number of unselected points:')\n",
    "print(len(ind_selected_not))"
   ]
  },
  {
   "cell_type": "code",
   "execution_count": null,
   "metadata": {},
   "outputs": [],
   "source": [
    "# Optionally, save the selected indices to a .pkl file \n",
    "#SAVE_PATH = f'{WORKDIR}/ind_selected.pkl' # CHANGE ME\n",
    "#with open(SAVE_PATH, 'wb') as f:\n",
    "#    pickle.dump(ind_selected, f)"
   ]
  },
  {
   "cell_type": "markdown",
   "metadata": {},
   "source": [
    "### Visualize selected subset"
   ]
  },
  {
   "cell_type": "code",
   "execution_count": null,
   "metadata": {},
   "outputs": [],
   "source": [
    "# View PCA\n",
    "plt.scatter(pc[:,0], pc[:,1], alpha=.1, s=1)\n",
    "plt.scatter(pc[ind_selected,0], pc[ind_selected,1], alpha=.1, s=1)\n",
    "plt.xlabel('PC1 ({:.2f})'.format(pca.explained_variance_ratio_[0]))\n",
    "plt.ylabel('PC2 ({:.2f})'.format(pca.explained_variance_ratio_[1]))"
   ]
  },
  {
   "cell_type": "code",
   "execution_count": null,
   "metadata": {},
   "outputs": [],
   "source": [
    "# View umap\n",
    "plt.scatter(umap[:,0], umap[:,1], alpha=.1, s=1)\n",
    "plt.scatter(umap[ind_selected,0], umap[ind_selected,1], alpha=.1, s=1)\n",
    "plt.xlabel('UMAP1')\n",
    "plt.ylabel('UMAP2')"
   ]
  },
  {
   "cell_type": "code",
   "execution_count": null,
   "metadata": {},
   "outputs": [],
   "source": [
    "# Subset of dataframe\n",
    "df_sub = df.loc[ind_selected]\n",
    "df_sub_not = df.loc[ind_selected_not]"
   ]
  },
  {
   "cell_type": "code",
   "execution_count": null,
   "metadata": {
    "scrolled": true
   },
   "outputs": [],
   "source": [
    "# View pose distribution\n",
    "analysis.plot_euler(df_sub.theta, df_sub.phi, df_sub.psi)"
   ]
  },
  {
   "cell_type": "code",
   "execution_count": null,
   "metadata": {},
   "outputs": [],
   "source": [
    "widget, fig, ind_table = analysis.ipy_plot_interactive(df_sub)\n",
    "VBox((widget,fig,ind_table))"
   ]
  },
  {
   "cell_type": "markdown",
   "metadata": {},
   "source": [
    "# View particles\n",
    "\n",
    "View images at selected points in latent space"
   ]
  },
  {
   "cell_type": "code",
   "execution_count": null,
   "metadata": {},
   "outputs": [],
   "source": [
    "particle_ind = ind_selected # or set to custom selection"
   ]
  },
  {
   "cell_type": "code",
   "execution_count": null,
   "metadata": {},
   "outputs": [],
   "source": [
    "# choose 9 particles to view at random\n",
    "if len(particle_ind) > 9:\n",
    "    ind_subset9 = np.random.choice(particle_ind, 9, replace=False)\n",
    "else: \n",
    "    ind_subset9 = particle_ind\n",
    "print(ind_subset9)"
   ]
  },
  {
   "cell_type": "code",
   "execution_count": null,
   "metadata": {},
   "outputs": [],
   "source": [
    "p = [particles[ii].get() for ii in ind_subset9]\n",
    "analysis.plot_projections(p, ind_subset9)\n",
    "widget, fig = analysis.ipy_plot_interactive_annotate(df,ind_subset9,opacity=.1)\n",
    "VBox((widget,fig))"
   ]
  },
  {
   "cell_type": "markdown",
   "metadata": {},
   "source": [
    "# Generate volumes\n",
    "\n",
    "Generate volumes at selected points in latent space"
   ]
  },
  {
   "cell_type": "code",
   "execution_count": null,
   "metadata": {},
   "outputs": [],
   "source": [
    "vol_ind = [] # ADD INDICES HERE\n",
    "print(vol_ind)"
   ]
  },
  {
   "cell_type": "code",
   "execution_count": null,
   "metadata": {},
   "outputs": [],
   "source": [
    "widget, fig = analysis.ipy_plot_interactive_annotate(df,vol_ind, opacity=.1)\n",
    "VBox((widget,fig))"
   ]
  },
  {
   "cell_type": "code",
   "execution_count": null,
   "metadata": {},
   "outputs": [],
   "source": [
    "def get_outdir():\n",
    "    '''Helper function to get a clean directory to save volumes'''\n",
    "    for i in range(100000):\n",
    "        outdir = f'{WORKDIR}/reconstruct.{EPOCH}_{i:06d}'\n",
    "        if os.path.exists(outdir): continue\n",
    "        else: break\n",
    "    return outdir\n",
    "\n",
    "def generate_volumes(zvalues, outdir):\n",
    "    '''Helper function to call eval_decoder.py and generate new volumes'''\n",
    "    if not os.path.exists(outdir):\n",
    "        os.mkdir(outdir)\n",
    "    np.savetxt(f'{outdir}/zfile.txt', zvalues)\n",
    "    analysis.gen_volumes(f'{WORKDIR}/weights.{EPOCH}.pkl',\n",
    "                         f'{WORKDIR}/config.pkl',\n",
    "                         f'{outdir}/zfile.txt',\n",
    "                         f'{outdir}')\n",
    "    return FileLinks(f'{outdir}/')"
   ]
  },
  {
   "cell_type": "code",
   "execution_count": null,
   "metadata": {},
   "outputs": [],
   "source": [
    "outdir = get_outdir()\n",
    "print(os.path.abspath(outdir))"
   ]
  },
  {
   "cell_type": "code",
   "execution_count": null,
   "metadata": {},
   "outputs": [],
   "source": [
    "generate_volumes(z[vol_ind], outdir)"
   ]
  }
 ],
 "metadata": {
  "kernelspec": {
   "display_name": "Python 3",
   "language": "python",
   "name": "python3"
  },
  "language_info": {
   "codemirror_mode": {
    "name": "ipython",
    "version": 3
   },
   "file_extension": ".py",
   "mimetype": "text/x-python",
   "name": "python",
   "nbconvert_exporter": "python",
   "pygments_lexer": "ipython3",
   "version": "3.7.4"
  }
 },
 "nbformat": 4,
 "nbformat_minor": 2
}
